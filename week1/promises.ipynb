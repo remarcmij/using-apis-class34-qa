{
 "cells": [
  {
   "cell_type": "markdown",
   "metadata": {},
   "source": [
    "# Promises\n",
    "\n",
    "## Experiment 1: Create a pending promise (resolved nor rejected)\n",
    "\n",
    "- What it the JavaScript type of a promise?"
   ]
  },
  {
   "cell_type": "code",
   "execution_count": 2,
   "metadata": {},
   "outputs": [
    {
     "name": "stdout",
     "output_type": "stream",
     "text": [
      "1 object\n",
      "2 Promise { <pending> }\n"
     ]
    }
   ],
   "source": [
    "const p1 = new Promise((resolve, reject) => {\n",
    "  // Do nothing\n",
    "});\n",
    "\n",
    "console.log(1, typeof p1);\n",
    "console.log(2, p1)"
   ]
  },
  {
   "cell_type": "markdown",
   "metadata": {},
   "source": [
    "## Experiment 2: Creating and consuming a resolved promise\n",
    "\n",
    "- What will be printed to the console and in what order?"
   ]
  },
  {
   "cell_type": "code",
   "execution_count": null,
   "metadata": {},
   "outputs": [
    {
     "name": "stdout",
     "output_type": "stream",
     "text": [
      "1 Promise { <pending> }\n",
      "5 Promise { <pending> }\n",
      "2 42\n",
      "3 Promise { 42 }\n"
     ]
    }
   ],
   "source": [
    "const p2 = new Promise((resolve, reject) => {\n",
    "  setTimeout(() => {\n",
    "    resolve(42);\n",
    "  }, 0);\n",
    "})\n",
    "\n",
    "console.log(1, p2);\n",
    "\n",
    "const p3 = p2.then((result) => {\n",
    "  console.log(2, result);\n",
    "  console.log(3, p2);\n",
    "}).catch((err) => {\n",
    "  console.log(4, err.message);\n",
    "});\n",
    "\n",
    "console.log(5, p3);"
   ]
  },
  {
   "cell_type": "markdown",
   "metadata": {},
   "source": [
    "## Experiment 3: Creating and consuming a rejected promise\n",
    "\n",
    "- What will be printed to the console and in what order?"
   ]
  },
  {
   "cell_type": "code",
   "execution_count": null,
   "metadata": {},
   "outputs": [
    {
     "name": "stdout",
     "output_type": "stream",
     "text": [
      "1 Promise { <pending> }\n",
      "6 Promise { <pending> }\n",
      "4 Promise {\n",
      "  <rejected> Error: Something went wrong...\n",
      "      at Timeout._onTimeout (evalmachine.<anonymous>:5:16)\n",
      "      at listOnTimeout (internal/timers.js:557:17)\n",
      "      at processTimers (internal/timers.js:500:7)\n",
      "}\n",
      "5 Something went wrong...\n"
     ]
    }
   ],
   "source": [
    "const p3 = new Promise((resolve, reject) => {\n",
    "  setTimeout(() => {\n",
    "    reject(new Error('Something went wrong...'));\n",
    "  }, 0);\n",
    "})\n",
    "\n",
    "console.log(1, p3);\n",
    "\n",
    "const p4 = p3.then((result) => {\n",
    "  console.log(2, result);\n",
    "  console.log(3, p3);\n",
    "}).catch((err) => {\n",
    "  console.log(4, p3);\n",
    "  console.log(5, err.message);\n",
    "});\n",
    "\n",
    "console.log(6, p4);"
   ]
  },
  {
   "cell_type": "code",
   "execution_count": null,
   "metadata": {},
   "outputs": [
    {
     "name": "stdout",
     "output_type": "stream",
     "text": [
      "1 Promise { <pending> }\n",
      "2 Promise { <pending> }\n"
     ]
    },
    {
     "name": "stderr",
     "output_type": "stream",
     "text": [
      "UnhandledPromiseRejection: Error: Oops...\n",
      "    at Timeout._onTimeout (evalmachine.<anonymous>:6:16)\n",
      "    at listOnTimeout (internal/timers.js:557:17)\n",
      "    at processTimers (internal/timers.js:500:7)\n"
     ]
    }
   ],
   "source": [
    "const p3 = new Promise((resolve, reject) => {\n",
    "  setTimeout(() => {\n",
    "    console.log(1, p3);\n",
    "    reject(new Error('Oops...'));\n",
    "    console.log(2, p3);\n",
    "  }, 0);\n",
    "}).then((err) => {\n",
    "  console.log(err.message);\n",
    "});"
   ]
  },
  {
   "cell_type": "code",
   "execution_count": 9,
   "metadata": {},
   "outputs": [
    {
     "name": "stdout",
     "output_type": "stream",
     "text": [
      "6 Oops...\n"
     ]
    }
   ],
   "source": [
    "const z = p3\n",
    "  .then((result) => {\n",
    "    console.log(5, result)\n",
    "  })\n",
    "  .catch((err) => {\n",
    "    console.log(6, err.message);\n",
    "  });"
   ]
  },
  {
   "cell_type": "code",
   "execution_count": 10,
   "metadata": {},
   "outputs": [
    {
     "name": "stdout",
     "output_type": "stream",
     "text": [
      "1 object\n",
      "2 Promise { undefined }\n"
     ]
    }
   ],
   "source": [
    "console.log(1, typeof z);\n",
    "console.log(2, z);"
   ]
  }
 ],
 "metadata": {
  "kernelspec": {
   "display_name": "JavaScript",
   "language": "javascript",
   "name": "jslab"
  },
  "language_info": {
   "file_extension": ".js",
   "mimetype": "text/javascript",
   "name": "javascript",
   "version": ""
  },
  "orig_nbformat": 4
 },
 "nbformat": 4,
 "nbformat_minor": 2
}
