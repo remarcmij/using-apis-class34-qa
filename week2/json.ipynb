{
 "cells": [
  {
   "cell_type": "markdown",
   "metadata": {},
   "source": [
    "# JSON\n",
    "\n",
    "JavaScript Object Notation"
   ]
  },
  {
   "cell_type": "markdown",
   "metadata": {},
   "source": [
    "JSON is a standard for encoding JavaScript objects as plain text (strings). All HTTP communication is based on text transfers. The JSON format was created to enable the transfer of JavaScript objects across the Internet by encoding them in JSON at the sending side and decoding them to a corresponding JavaScript object at the receiving side. "
   ]
  },
  {
   "cell_type": "code",
   "execution_count": null,
   "metadata": {},
   "outputs": [],
   "source": [
    "const jsonString = `{\n",
    "  \"id\": 4,\n",
    "  \"title\": \"Using APIs\"\n",
    "}`;\n",
    "\n",
    "console.log(1, typeof jsonString);\n",
    "console.log(2, jsonString);"
   ]
  },
  {
   "cell_type": "markdown",
   "metadata": {},
   "source": [
    "## JSON.parse()\n",
    "\n",
    "JSON strings can be decoded through the `JSON.parse()` method."
   ]
  },
  {
   "cell_type": "code",
   "execution_count": null,
   "metadata": {},
   "outputs": [],
   "source": [
    "const jsonString = `{\n",
    "  \"id\": 4,\n",
    "  \"title\": \"Using APIs\"\n",
    "}`;\n",
    "\n",
    "const jsonData =  JSON.parse(jsonString);\n",
    "\n",
    "console.log(1, typeof jsonData);\n",
    "console.log(2, jsonData);"
   ]
  },
  {
   "cell_type": "markdown",
   "metadata": {},
   "source": [
    "White space in JSON text helps human readers to see the structure of the data. The computer does not need or care about white space."
   ]
  },
  {
   "cell_type": "code",
   "execution_count": null,
   "metadata": {},
   "outputs": [],
   "source": [
    "const jsonString = '{\"id\":4,\"title\":\"Using APIs\"}';\n",
    "\n",
    "const jsonData =  JSON.parse(jsonString);\n",
    "\n",
    "console.log(1, typeof jsonData);\n",
    "console.log(2, jsonData);"
   ]
  },
  {
   "cell_type": "markdown",
   "metadata": {},
   "source": [
    "A corrupt JSON string encoding will cause `JSON.parse()` to throw and error."
   ]
  },
  {
   "cell_type": "code",
   "execution_count": null,
   "metadata": {},
   "outputs": [],
   "source": [
    "// There is a quote missing after Using APIs\n",
    "const jsonString = '{\"id\":4,\"title\":\"Using APIs}';\n",
    "\n",
    "const jsonData =  JSON.parse(jsonString);\n",
    "\n",
    "console.log(1, jsonData);"
   ]
  },
  {
   "cell_type": "markdown",
   "metadata": {},
   "source": [
    "## JSON.stringify()\n",
    "\n",
    "To encode a JavaScript as JSON text we can use the `JSON.stringify()` method. By default it doesn't add white space."
   ]
  },
  {
   "cell_type": "code",
   "execution_count": null,
   "metadata": {},
   "outputs": [],
   "source": [
    "const jsonData = {\n",
    "  id: 4,\n",
    "  title: \"Using APIs\"\n",
    "};\n",
    "\n",
    "const jsonString = JSON.stringify(jsonData);\n",
    "\n",
    "console.log(1, typeof jsonData);\n",
    "console.log(2, typeof jsonString);\n",
    "console.log(3, jsonString);"
   ]
  },
  {
   "cell_type": "markdown",
   "metadata": {},
   "source": [
    "To include white space (for human consumption only) we can add parameters to `JSON.stringify()`."
   ]
  },
  {
   "cell_type": "code",
   "execution_count": null,
   "metadata": {},
   "outputs": [],
   "source": [
    "const jsonData = {\n",
    "  id: 4,\n",
    "  title: \"Using APIs\"\n",
    "};\n",
    "\n",
    "// add line breaks and indent with two spaces.\n",
    "const jsonString = JSON.stringify(jsonData, null, 2);  \n",
    "\n",
    "console.log(1, typeof jsonData);\n",
    "console.log(2, typeof jsonString);\n",
    "console.log(3, jsonString);"
   ]
  }
 ],
 "metadata": {
  "kernelspec": {
   "display_name": "JavaScript",
   "language": "javascript",
   "name": "jslab"
  },
  "language_info": {
   "file_extension": ".js",
   "mimetype": "text/javascript",
   "name": "javascript",
   "version": ""
  },
  "orig_nbformat": 4
 },
 "nbformat": 4,
 "nbformat_minor": 2
}
