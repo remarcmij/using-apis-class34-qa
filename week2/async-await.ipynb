{
 "cells": [
  {
   "cell_type": "markdown",
   "metadata": {},
   "source": [
    "# async/await"
   ]
  },
  {
   "cell_type": "markdown",
   "metadata": {},
   "source": [
    "## Regular (synchronous) function "
   ]
  },
  {
   "cell_type": "code",
   "execution_count": null,
   "metadata": {},
   "outputs": [],
   "source": [
    "function foo() {\n",
    "  return 42;\n",
    "}\n",
    "\n",
    "const result = foo();\n",
    "console.log(result);"
   ]
  },
  {
   "cell_type": "markdown",
   "metadata": {},
   "source": [
    "## Asynchronous function\n",
    "\n",
    "A function marked with the `async` keyword."
   ]
  },
  {
   "cell_type": "code",
   "execution_count": null,
   "metadata": {},
   "outputs": [],
   "source": [
    "async function foo() {\n",
    "  return 42;\n",
    "}\n",
    "\n",
    "const result = foo();\n",
    "console.log(result);"
   ]
  },
  {
   "cell_type": "code",
   "execution_count": null,
   "metadata": {},
   "outputs": [],
   "source": []
  },
  {
   "cell_type": "markdown",
   "metadata": {},
   "source": [
    "## Using `await`\n",
    "\n",
    "The `await` keyword causes the code to \"wait\" for a promise to become resolved _without blocking the code execution_."
   ]
  },
  {
   "cell_type": "code",
   "execution_count": null,
   "metadata": {},
   "outputs": [],
   "source": [
    "async function foo() {\n",
    "  return 42;\n",
    "}\n",
    "\n",
    "const result = await foo();\n",
    "console.log(result);"
   ]
  },
  {
   "cell_type": "markdown",
   "metadata": {},
   "source": [
    "Inside a function you can only use `await` if the calling function itself is marked with `async`."
   ]
  },
  {
   "cell_type": "code",
   "execution_count": null,
   "metadata": {},
   "outputs": [],
   "source": [
    "async function foo() {\n",
    "  return 42;\n",
    "}\n",
    "function bar() {\n",
    "  const result = await foo();\n",
    "  console.log(result);\n",
    "}\n",
    "\n",
    "bar();"
   ]
  },
  {
   "cell_type": "markdown",
   "metadata": {},
   "source": [
    "Because the calling function is now marked `async` it returns a promise itself."
   ]
  },
  {
   "cell_type": "code",
   "execution_count": null,
   "metadata": {},
   "outputs": [],
   "source": [
    "async function foo() {\n",
    "  return 42;\n",
    "}\n",
    "\n",
    "async function bar() { // added async keyword\n",
    "  const result = await foo();\n",
    "  console.log(result);\n",
    "}\n",
    "\n",
    "bar();"
   ]
  },
  {
   "cell_type": "markdown",
   "metadata": {},
   "source": [
    "## Error handling\n",
    " \n",
    "Throwing an error inside an async function produces a rejected promise."
   ]
  },
  {
   "cell_type": "code",
   "execution_count": null,
   "metadata": {},
   "outputs": [],
   "source": [
    "async function foo() {\n",
    "  throw new Error('Oops, something went wrong...')\n",
    "}\n",
    "\n",
    "async function bar() {\n",
    "  const result = await foo();\n",
    "  console.log(result);\n",
    "}\n",
    "\n",
    "bar();"
   ]
  },
  {
   "cell_type": "markdown",
   "metadata": {},
   "source": [
    "## Error handling: `try/catch`\n",
    "\n",
    "Errors that occur inside a `try` block can be caught in a `catch` block."
   ]
  },
  {
   "cell_type": "code",
   "execution_count": null,
   "metadata": {},
   "outputs": [],
   "source": [
    "async function foo() {\n",
    "  throw new Error('Oops, something went wrong...');\n",
    "}\n",
    "\n",
    "async function bar() {\n",
    "  try {\n",
    "    const result = await foo();\n",
    "    console.log(result); \n",
    "  } catch(err) {\n",
    "    console.log(`Error: ${err.message}`);\n",
    "  }\n",
    "}\n",
    "\n",
    "bar();"
   ]
  },
  {
   "cell_type": "markdown",
   "metadata": {},
   "source": [
    "A thrown error inside a `Promise()` constructor also produces a rejected promise."
   ]
  },
  {
   "cell_type": "code",
   "execution_count": null,
   "metadata": {},
   "outputs": [],
   "source": [
    "function foo() {\n",
    "  return new Promise((resolve, reject) => {\n",
    "    throw new Error('Oops, something went wrong...');\n",
    "  });\n",
    "}\n",
    "\n",
    "async function bar() {\n",
    "  try {\n",
    "    const result = await foo();\n",
    "    console.log(result); \n",
    "  } catch(err) {\n",
    "    console.log(`Error: ${err.message}`);\n",
    "  }\n",
    "}\n",
    "\n",
    "bar();"
   ]
  }
 ],
 "metadata": {
  "kernelspec": {
   "display_name": "JavaScript",
   "language": "javascript",
   "name": "jslab"
  },
  "language_info": {
   "file_extension": ".js",
   "mimetype": "text/javascript",
   "name": "javascript",
   "version": ""
  },
  "orig_nbformat": 4
 },
 "nbformat": 4,
 "nbformat_minor": 2
}
