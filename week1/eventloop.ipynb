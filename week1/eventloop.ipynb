{
 "cells": [
  {
   "cell_type": "markdown",
   "metadata": {},
   "source": [
    "# Event Loop\n",
    "\n",
    "## Experiment 1: Synchronous code with async timeouts\n",
    "\n",
    "- What will be logged to the console and in what order?\n",
    "- How many tasks does the JavaScript engine need to run (to completion)?"
   ]
  },
  {
   "cell_type": "code",
   "execution_count": 1,
   "metadata": {},
   "outputs": [
    {
     "name": "stdout",
     "output_type": "stream",
     "text": [
      "starting\n",
      "ending\n"
     ]
    }
   ],
   "source": [
    "console.log('starting');\n",
    "\n",
    "setTimeout(() => {\n",
    "  console.log('timeout 1');\n",
    "}, 1000);\n",
    "\n",
    "setTimeout(() => {\n",
    "  console.log('timeout 2');\n",
    "}, 2000);\n",
    "\n",
    "\n",
    "console.log('ending');"
   ]
  },
  {
   "cell_type": "markdown",
   "metadata": {},
   "source": [
    "## Experiment 2: Adding a resolved promise\n",
    "\n",
    "- What will be logged to the console and in what order?\n",
    "- Explanation?"
   ]
  },
  {
   "cell_type": "code",
   "execution_count": 2,
   "metadata": {},
   "outputs": [
    {
     "name": "stdout",
     "output_type": "stream",
     "text": [
      "starting\n",
      "ending\n",
      "then 1\n",
      "timeout 1\n",
      "timeout 2\n"
     ]
    }
   ],
   "source": [
    "console.log('starting');\n",
    "\n",
    "setTimeout(() => {\n",
    "  console.log('timeout 1');\n",
    "}, 0);\n",
    "\n",
    "setTimeout(() => {\n",
    "  console.log('timeout 2');\n",
    "}, 0);\n",
    "\n",
    "// Create a new promise and resolve it immediately\n",
    "new Promise((resolve, reject) => {\n",
    "  resolve();\n",
    "}).then(() => {\n",
    "    console.log('then 1');\n",
    "   })\n",
    "  .catch(() => {\n",
    "    console.log('catch 1');\n",
    "  });\n",
    "\n",
    "console.log('ending');"
   ]
  },
  {
   "cell_type": "markdown",
   "metadata": {},
   "source": [
    "## Experiment 3: Extending the promise chain\n",
    "\n",
    "- What will be logged to the console and in what order?\n",
    "- Explanation?\n"
   ]
  },
  {
   "cell_type": "code",
   "execution_count": 3,
   "metadata": {},
   "outputs": [
    {
     "name": "stdout",
     "output_type": "stream",
     "text": [
      "starting\n",
      "ending\n",
      "then 1\n",
      "then 2\n",
      "then 3\n",
      "finally\n",
      "timeout 1\n",
      "timeout 2\n"
     ]
    }
   ],
   "source": [
    "console.log('starting');\n",
    "\n",
    "setTimeout(() => {\n",
    "  console.log('timeout 1');\n",
    "}, 0);\n",
    "\n",
    "setTimeout(() => {\n",
    "  console.log('timeout 2');\n",
    "}, 0);\n",
    "\n",
    "// Create a resolved promise\n",
    "Promise.resolve()\n",
    "  .then(() => {\n",
    "    console.log('then 1');\n",
    "  })\n",
    "  .then(() => {\n",
    "    console.log('then 2');\n",
    "  })\n",
    "  .catch(() => {\n",
    "    console.log('catch 1');\n",
    "  })\n",
    "  .catch(() => {\n",
    "    console.log('catch 2');\n",
    "  })\n",
    "  .then(() => {\n",
    "    console.log('then 3');\n",
    "  })\n",
    "  .finally(() => {\n",
    "    console.log('finally');\n",
    "  });\n",
    "\n",
    "console.log('ending');"
   ]
  },
  {
   "cell_type": "markdown",
   "metadata": {},
   "source": [
    "## As previous example, but now for a rejected promise.\n",
    "\n",
    "- What will be logged to the console and in what order?\n",
    "- Explanation?"
   ]
  },
  {
   "cell_type": "code",
   "execution_count": null,
   "metadata": {},
   "outputs": [
    {
     "name": "stdout",
     "output_type": "stream",
     "text": [
      "starting\n",
      "ending\n",
      "catch 1\n",
      "then 3\n",
      "finally\n",
      "timeout 1\n",
      "timeout 2\n",
      "timeout 1\n",
      "timeout 2\n"
     ]
    }
   ],
   "source": [
    "console.log('starting');\n",
    "\n",
    "setTimeout(() => {\n",
    "  console.log('timeout 1');\n",
    "}, 0);\n",
    "\n",
    "setTimeout(() => {\n",
    "  console.log('timeout 2');\n",
    "}, 0);\n",
    "\n",
    "// Create a rejected promise\n",
    "Promise.reject()\n",
    "  .then(() => {\n",
    "    console.log('then 1');\n",
    "  })\n",
    "  .then(() => {\n",
    "    console.log('then 2');\n",
    "  })\n",
    "  .catch(() => {\n",
    "    console.log('catch 1');\n",
    "  })\n",
    "  .catch(() => {\n",
    "    console.log('catch 2');\n",
    "  })\n",
    "  .then(() => {\n",
    "    console.log('then 3');\n",
    "  })\n",
    "  .finally(() => {\n",
    "    console.log('finally');\n",
    "  });\n",
    "\n",
    "console.log('ending');"
   ]
  }
 ],
 "metadata": {
  "kernelspec": {
   "display_name": "JavaScript",
   "language": "javascript",
   "name": "jslab"
  },
  "language_info": {
   "file_extension": ".js",
   "mimetype": "text/javascript",
   "name": "javascript",
   "version": ""
  },
  "orig_nbformat": 4
 },
 "nbformat": 4,
 "nbformat_minor": 2
}
