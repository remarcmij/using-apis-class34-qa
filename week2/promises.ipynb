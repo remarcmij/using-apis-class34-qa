{
 "cells": [
  {
   "cell_type": "markdown",
   "metadata": {},
   "source": [
    "# Promises revisited"
   ]
  },
  {
   "cell_type": "markdown",
   "metadata": {},
   "source": [
    "Example 1 (callback): What will be printed?"
   ]
  },
  {
   "cell_type": "code",
   "execution_count": 10,
   "metadata": {},
   "outputs": [
    {
     "name": "stdout",
     "output_type": "stream",
     "text": [
      "1\n",
      "2\n"
     ]
    }
   ],
   "source": [
    "function foo(callback) {\n",
    "  callback(1);\n",
    "  callback(2);\n",
    "}\n",
    "\n",
    "foo((value) => console.log(value));"
   ]
  },
  {
   "cell_type": "markdown",
   "metadata": {},
   "source": [
    "Example 2 (promise): What will be printed?"
   ]
  },
  {
   "cell_type": "code",
   "execution_count": null,
   "metadata": {},
   "outputs": [
    {
     "name": "stdout",
     "output_type": "stream",
     "text": [
      "Promise { <pending> }\n"
     ]
    },
    {
     "name": "stderr",
     "output_type": "stream",
     "text": [
      "UnhandledPromiseRejection: 1\n"
     ]
    }
   ],
   "source": [
    "function foo() {\n",
    "  return new Promise((resolve, reject) => {\n",
    "    reject(1);\n",
    "    resolve(2);\n",
    "  });\n",
    "}\n",
    "\n",
    "foo().then((value) => console.log(value));"
   ]
  },
  {
   "cell_type": "markdown",
   "metadata": {},
   "source": [
    "## Conclusion?\n",
    "\n",
    "Once a promise is settled (resolved or rejected) its outcome is fixed and can no longer be changed (e.g. by calling resolve or reject again).\n",
    "\n",
    "This is by design so you can depend this."
   ]
  }
 ],
 "metadata": {
  "kernelspec": {
   "display_name": "JavaScript",
   "language": "javascript",
   "name": "jslab"
  },
  "language_info": {
   "file_extension": ".js",
   "mimetype": "text/javascript",
   "name": "javascript",
   "version": ""
  },
  "orig_nbformat": 4
 },
 "nbformat": 4,
 "nbformat_minor": 2
}
