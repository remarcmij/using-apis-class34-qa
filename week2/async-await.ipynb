{
 "cells": [
  {
   "cell_type": "markdown",
   "metadata": {},
   "source": [
    "# async/await"
   ]
  },
  {
   "cell_type": "markdown",
   "metadata": {},
   "source": [
    "## Regular (synchronous) function "
   ]
  },
  {
   "cell_type": "code",
   "execution_count": 1,
   "metadata": {},
   "outputs": [
    {
     "name": "stdout",
     "output_type": "stream",
     "text": [
      "42\n"
     ]
    }
   ],
   "source": [
    "function foo() {\n",
    "  return 42;\n",
    "}\n",
    "\n",
    "const result = foo();\n",
    "console.log(result);"
   ]
  },
  {
   "cell_type": "markdown",
   "metadata": {},
   "source": [
    "## Asynchronous function\n",
    "\n",
    "A function marked with the `async` keyword."
   ]
  },
  {
   "cell_type": "code",
   "execution_count": 2,
   "metadata": {},
   "outputs": [
    {
     "name": "stdout",
     "output_type": "stream",
     "text": [
      "Promise { 42 }\n"
     ]
    }
   ],
   "source": [
    "async function foo() {\n",
    "  return 42;\n",
    "}\n",
    "\n",
    "const result = foo();\n",
    "console.log(result);"
   ]
  },
  {
   "cell_type": "code",
   "execution_count": null,
   "metadata": {},
   "outputs": [],
   "source": []
  },
  {
   "cell_type": "markdown",
   "metadata": {},
   "source": [
    "## Using `await`\n",
    "\n",
    "The `await` keyword causes the code to \"wait\" for a promise to become resolved _without blocking the code execution_."
   ]
  },
  {
   "cell_type": "code",
   "execution_count": 3,
   "metadata": {},
   "outputs": [
    {
     "name": "stdout",
     "output_type": "stream",
     "text": [
      "42\n"
     ]
    }
   ],
   "source": [
    "async function foo() {\n",
    "  return 42;\n",
    "}\n",
    "\n",
    "const result = await foo();\n",
    "console.log(result);"
   ]
  },
  {
   "cell_type": "markdown",
   "metadata": {},
   "source": [
    "Inside a function you can only use `await` if the calling function itself is marked with `async`."
   ]
  },
  {
   "cell_type": "code",
   "execution_count": 4,
   "metadata": {},
   "outputs": [
    {
     "name": "stderr",
     "output_type": "stream",
     "text": [
      "5:18 - 'await' expressions are only allowed within async functions and at the top levels of modules.\n"
     ]
    }
   ],
   "source": [
    "async function foo() {\n",
    "  return 42;\n",
    "}\n",
    "function bar() {\n",
    "  const result = await foo();\n",
    "  console.log(result);\n",
    "}\n",
    "\n",
    "bar();"
   ]
  },
  {
   "cell_type": "markdown",
   "metadata": {},
   "source": [
    "Because the calling function is now marked `async` it returns a promise itself."
   ]
  },
  {
   "cell_type": "code",
   "execution_count": 9,
   "metadata": {},
   "outputs": [
    {
     "name": "stdout",
     "output_type": "stream",
     "text": [
      "Promise { <pending> }\n",
      "42\n"
     ]
    }
   ],
   "source": [
    "async function foo() {\n",
    "  return 42;\n",
    "}\n",
    "\n",
    "async function bar() { // added async keyword\n",
    "  const result = await foo();\n",
    "  console.log(result);\n",
    "}\n",
    "\n",
    "bar();"
   ]
  },
  {
   "cell_type": "markdown",
   "metadata": {},
   "source": [
    "## Error handling\n",
    " \n",
    "Throwing an error inside an async function produces a rejected promise."
   ]
  },
  {
   "cell_type": "code",
   "execution_count": null,
   "metadata": {},
   "outputs": [
    {
     "name": "stdout",
     "output_type": "stream",
     "text": [
      "Promise { <pending> }\n"
     ]
    },
    {
     "name": "stderr",
     "output_type": "stream",
     "text": [
      "UnhandledPromiseRejection: Error: Oops, something went wrong...\n",
      "    at foo (evalmachine.<anonymous>:4:11)\n",
      "    at bar (evalmachine.<anonymous>:8:26)\n",
      "    at evalmachine.<anonymous>:12:22\n",
      "    at evalmachine.<anonymous>:14:3\n",
      "    at sigintHandlersWrap (vm.js:273:12)\n",
      "    at Script.runInThisContext (vm.js:132:14)\n",
      "    at Object.runInThisContext (vm.js:310:38)\n",
      "    at Object.execute (C:\\Users\\jimcr\\AppData\\Roaming\\nvm\\v14.17.5\\node_modules\\tslab\\dist\\executor.js:162:38)\n",
      "    at JupyterHandlerImpl.handleExecuteImpl (C:\\Users\\jimcr\\AppData\\Roaming\\nvm\\v14.17.5\\node_modules\\tslab\\dist\\jupyter.js:219:38)\n",
      "    at C:\\Users\\jimcr\\AppData\\Roaming\\nvm\\v14.17.5\\node_modules\\tslab\\dist\\jupyter.js:177:57\n"
     ]
    }
   ],
   "source": [
    "async function foo() {\n",
    "  throw new Error('Oops, something went wrong...')\n",
    "}\n",
    "\n",
    "async function bar() {\n",
    "  const result = await foo();\n",
    "  console.log(result);\n",
    "}\n",
    "\n",
    "bar();"
   ]
  },
  {
   "cell_type": "markdown",
   "metadata": {},
   "source": [
    "## Error handling: `try/catch`\n",
    "\n",
    "Errors that occur inside a `try` block can be caught in a `catch` block."
   ]
  },
  {
   "cell_type": "code",
   "execution_count": 13,
   "metadata": {},
   "outputs": [
    {
     "name": "stdout",
     "output_type": "stream",
     "text": [
      "Promise { <pending> }\n",
      "Error: Oops, something went wrong...\n"
     ]
    }
   ],
   "source": [
    "async function foo() {\n",
    "  throw new Error('Oops, something went wrong...');\n",
    "}\n",
    "\n",
    "async function bar() {\n",
    "  try {\n",
    "    const result = await foo();\n",
    "    console.log(result); \n",
    "  } catch(err) {\n",
    "    console.log(`Error: ${err.message}`);\n",
    "  }\n",
    "}\n",
    "\n",
    "bar();"
   ]
  },
  {
   "cell_type": "markdown",
   "metadata": {},
   "source": [
    "A thrown error inside a `Promise()` constructor also produces a rejected promise."
   ]
  },
  {
   "cell_type": "code",
   "execution_count": 14,
   "metadata": {},
   "outputs": [
    {
     "name": "stdout",
     "output_type": "stream",
     "text": [
      "Promise { <pending> }\n",
      "Error: Oops, something went wrong...\n"
     ]
    }
   ],
   "source": [
    "function foo() {\n",
    "  return new Promise((resolve, reject) => {\n",
    "    throw new Error('Oops, something went wrong...');\n",
    "  });\n",
    "}\n",
    "\n",
    "async function bar() {\n",
    "  try {\n",
    "    const result = await foo();\n",
    "    console.log(result); \n",
    "  } catch(err) {\n",
    "    console.log(`Error: ${err.message}`);\n",
    "  }\n",
    "}\n",
    "\n",
    "bar();"
   ]
  }
 ],
 "metadata": {
  "kernelspec": {
   "display_name": "JavaScript",
   "language": "javascript",
   "name": "jslab"
  },
  "language_info": {
   "file_extension": ".js",
   "mimetype": "text/javascript",
   "name": "javascript",
   "version": ""
  },
  "orig_nbformat": 4
 },
 "nbformat": 4,
 "nbformat_minor": 2
}
